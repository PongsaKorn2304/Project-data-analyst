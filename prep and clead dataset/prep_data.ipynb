{
 "cells": [
  {
   "cell_type": "markdown",
   "metadata": {},
   "source": [
    "## Pricing analysis on NYC Airbnb Data\n",
    "<p><img src=\"https://assets.datacamp.com/production/project_1230/img/nyc.jpg\" alt=\"New York City skyline\" width=\"400px\">\n",
    "\n",
    "### Data set come from the NYC Airbnb which \"Datacamp\" are provided the data set\n",
    "1. airbnb_price.csv\n",
    "2. airbnb_room_type.csv\n",
    "3. airbnb_last_review.tsv\n",
    "### About column in data set\n",
    "1. airbnb_price.csv\n",
    "* listing id: unique id\n",
    "* price: price per night\n",
    "* nbhood_full:name of borough and neighbourhood where the listing is located\n",
    "2. airbnb_room_type.csv\n",
    "* listing id: unique id\n",
    "* description of the room\n",
    "* room_type: Airbnb has three types of rooms: shared rooms, private rooms, and entire homes/apartments\n",
    "3. airbnb_last_review.tsv\n",
    "* listing_id\n",
    "* host_name: name of host \n",
    "* last_review: the date when the listing was last reviewed\n",
    "### The purpose of our project are \n",
    "* clean data, join data and prep data to use in power bi\n"
   ]
  },
  {
   "cell_type": "markdown",
   "metadata": {},
   "source": [
    "### 1. Import data"
   ]
  },
  {
   "cell_type": "code",
   "execution_count": 2,
   "metadata": {},
   "outputs": [
    {
     "name": "stdout",
     "output_type": "stream",
     "text": [
      "size of price = (25209, 3)\n",
      "size of roome_type = (25209, 3)\n",
      "size of reviews = (25209, 3)\n",
      "------------------------------------------------\n"
     ]
    }
   ],
   "source": [
    "import pandas as pd\n",
    "import numpy as np\n",
    "# load airbnb_price.csv\n",
    "prices = pd.read_csv(\"https://raw.githubusercontent.com/PongsaKorn2304/Project-data-analyst/main/Airbnb_project/airbnb_price.csv\")\n",
    "# load airbnb_room_type.xlsx\n",
    "room_types = pd.read_csv(\"https://raw.githubusercontent.com/PongsaKorn2304/Project-data-analyst/main/Airbnb_project/airbnb_room_type.csv\",encoding_errors= 'replace')\n",
    "# load airbnb_last_review\n",
    "reviews = pd.read_csv(\"https://raw.githubusercontent.com/PongsaKorn2304/Project-data-analyst/main/Airbnb_project/airbnb_last_review.tsv\",sep = \"\\t\")\n",
    "print(\"size of price =\",prices.shape)\n",
    "print(\"size of roome_type =\",room_types.shape)\n",
    "print(\"size of reviews =\",reviews.shape)\n",
    "print(\"------------------------------------------------\")"
   ]
  },
  {
   "cell_type": "markdown",
   "metadata": {},
   "source": [
    "### 2. focus on prices data set check data type and value on each columns\n",
    "#### After run code you will see\n",
    "* should split column price and nbhood_full"
   ]
  },
  {
   "cell_type": "code",
   "execution_count": 3,
   "metadata": {},
   "outputs": [
    {
     "name": "stdout",
     "output_type": "stream",
     "text": [
      "   listing_id        price                nbhood_full\n",
      "0        2595  225 dollars         Manhattan, Midtown\n",
      "1        3831   89 dollars     Brooklyn, Clinton Hill\n",
      "2        5099  200 dollars     Manhattan, Murray Hill\n",
      "3        5178   79 dollars  Manhattan, Hell's Kitchen\n",
      "4        5238  150 dollars       Manhattan, Chinatown\n",
      "------------------------------------------------\n",
      "Index(['listing_id', 'price', 'nbhood_full'], dtype='object')\n",
      "------------------------------------------------\n"
     ]
    }
   ],
   "source": [
    "print(prices.head())\n",
    "print(\"------------------------------------------------\")\n",
    "print(prices.columns)\n",
    "print(\"------------------------------------------------\")\n",
    "\n"
   ]
  },
  {
   "cell_type": "code",
   "execution_count": 4,
   "metadata": {},
   "outputs": [
    {
     "name": "stdout",
     "output_type": "stream",
     "text": [
      "   listing_id  price(dollars) nbhood_borough      nbhood_zone\n",
      "0        2595           225.0      Manhattan          Midtown\n",
      "1        3831            89.0       Brooklyn     Clinton Hill\n",
      "2        5099           200.0      Manhattan      Murray Hill\n",
      "3        5178            79.0      Manhattan   Hell's Kitchen\n",
      "4        5238           150.0      Manhattan        Chinatown\n"
     ]
    }
   ],
   "source": [
    "# split price columns and nbhood_full\n",
    "prices[\"price(dollars)\"]=prices[\"price\"].str.split(\" \",expand=True)[0].astype(\"float\")\n",
    "prices[\"nbhood_borough\"]=prices[\"nbhood_full\"].str.split(\",\",expand=True)[0]\n",
    "prices[\"nbhood_zone\"]=prices[\"nbhood_full\"].str.split(\",\",expand=True)[1]\n",
    "prices = prices.drop(columns=['price','nbhood_full'])\n",
    "print(prices.head())"
   ]
  },
  {
   "cell_type": "code",
   "execution_count": 5,
   "metadata": {},
   "outputs": [
    {
     "name": "stdout",
     "output_type": "stream",
     "text": [
      "<class 'pandas.core.frame.DataFrame'>\n",
      "RangeIndex: 25209 entries, 0 to 25208\n",
      "Data columns (total 4 columns):\n",
      " #   Column          Non-Null Count  Dtype  \n",
      "---  ------          --------------  -----  \n",
      " 0   listing_id      25209 non-null  int64  \n",
      " 1   price(dollars)  25209 non-null  float64\n",
      " 2   nbhood_borough  25209 non-null  object \n",
      " 3   nbhood_zone     25209 non-null  object \n",
      "dtypes: float64(1), int64(1), object(2)\n",
      "memory usage: 787.9+ KB\n",
      "None\n",
      "------------------------------------------------\n",
      "['Manhattan' 'Brooklyn' 'Queens' 'Staten Island' 'Bronx']\n",
      "------------------------------------------------\n",
      "[' Midtown' ' Clinton Hill' ' Murray Hill' \" Hell's Kitchen\" ' Chinatown'\n",
      " ' Upper West Side' ' South Slope' ' Williamsburg' ' Fort Greene'\n",
      " ' Chelsea' ' Crown Heights' ' Park Slope' ' Bedford-Stuyvesant'\n",
      " ' Windsor Terrace' ' Inwood' ' East Village' ' Harlem' ' Greenpoint'\n",
      " ' Bushwick' ' Lower East Side' ' Prospect-Lefferts Gardens'\n",
      " ' Long Island City' ' Kips Bay' ' SoHo' ' Upper East Side'\n",
      " ' Prospect Heights' ' East Harlem' ' Washington Heights' ' Woodside'\n",
      " ' Flatbush' ' Carroll Gardens' ' West Village' ' Flatlands' ' Sunnyside'\n",
      " ' Gowanus' ' St. George' ' Highbridge' ' Financial District' ' Ridgewood'\n",
      " ' Morningside Heights' ' Jamaica' ' Middle Village' ' Ditmars Steinway'\n",
      " ' Cobble Hill' ' Flatiron District' ' Roosevelt Island'\n",
      " ' Greenwich Village' ' East Flatbush' ' Tompkinsville' ' Astoria'\n",
      " ' Kensington' ' Eastchester' ' Little Italy' ' Kingsbridge'\n",
      " ' Brooklyn Heights' ' Two Bridges' ' Queens Village' ' Forest Hills'\n",
      " ' Boerum Hill' ' Nolita' ' Woodlawn' ' University Heights' ' Gramercy'\n",
      " ' Allerton' ' East New York' ' Theater District' ' Concourse Village'\n",
      " ' Bensonhurst' ' Tribeca' ' Shore Acres' ' Concourse' ' DUMBO'\n",
      " ' Elmhurst' ' Jackson Heights' ' Arrochar' ' Rego Park' ' Wakefield'\n",
      " ' Clifton' ' Bay Ridge' ' Graniteville' ' Spuyten Duyvil' ' Stapleton'\n",
      " ' Columbia St' ' Canarsie' ' Sunset Park' ' Civic Center'\n",
      " ' East Elmhurst' ' Brighton Beach' ' Morris Heights' ' Flushing'\n",
      " ' Gravesend' ' Cypress Hills' ' Tottenville' ' NoHo' ' Mariners Harbor'\n",
      " ' Concord' ' Borough Park' ' Bayside' ' Downtown Brooklyn' ' Fieldston'\n",
      " ' Kew Gardens' ' College Point' ' Mount Eden' ' Briarwood'\n",
      " ' Vinegar Hill' ' Glendale' ' Red Hook' ' Port Morris' ' Arverne'\n",
      " ' Mott Haven' ' St. Albans' ' Midwood' ' Sheepshead Bay' ' Maspeth'\n",
      " ' Williamsbridge' ' Woodhaven' ' Battery Park City' ' Co-op City'\n",
      " ' North Riverdale' ' Dyker Heights' ' Longwood' ' Richmond Hill'\n",
      " ' Sea Gate' ' Riverdale' ' Kew Gardens Hills' ' Ozone Park' ' Soundview'\n",
      " ' Bay Terrace' ' Norwood' ' Claremont Village' ' Brownsville'\n",
      " ' Eltingville' ' Rockaway Beach' ' Navy Yard' ' Mount Hope'\n",
      " ' Clason Point' ' Springfield Gardens' ' Belle Harbor' ' Jamaica Estates'\n",
      " ' Van Nest' ' Bellerose' ' Fresh Meadows' ' West Brighton' ' Corona'\n",
      " ' Bayswater' ' Great Kills' ' Manhattan Beach' ' Dongan Hills'\n",
      " ' Fort Hamilton' ' Stuyvesant Town' ' East Morrisania' ' Hunts Point'\n",
      " ' Neponsit' ' Pelham Bay' ' Randall Manor' ' City Island' ' Throgs Neck'\n",
      " ' Silver Lake' ' Laurelton' ' Holliswood' ' Pelham Gardens'\n",
      " ' Parkchester' ' Rosedale' ' Castleton Corners' ' Far Rockaway'\n",
      " ' Edgemere' ' New Brighton' ' Baychester' ' Bronxdale' ' Marble Hill'\n",
      " ' Melrose' ' Bergen Beach' ' Cambria Heights' ' Richmondtown'\n",
      " ' South Ozone Park' ' Tremont' ' Fordham' ' Howland Hook'\n",
      " ' Schuylerville' ' Coney Island' ' South Beach' ' Castle Hill'\n",
      " ' Morris Park' ' Bath Beach' ' Douglaston' ' Howard Beach' ' Huguenot'\n",
      " ' Whitestone' ' Edenwald' ' Grant City' ' Port Richmond' ' Emerson Hill'\n",
      " ' Midland Beach' ' Westchester Square' ' Little Neck' ' Rosebank'\n",
      " ' New Springville' ' Mill Basin' ' Belmont' ' Lighthouse Hill'\n",
      " ' Morrisania' ' Arden Heights' \" Bull's Head\" ' Olinville' ' Grymes Hill'\n",
      " ' Hollis' ' Unionport' ' Rossville' ' Breezy Point' ' Willowbrook'\n",
      " ' New Dorp Beach' ' Todt Hill' ' Oakwood' ' West Farms' ' Jamaica Hills'\n",
      " \" Prince's Bay\"]\n"
     ]
    }
   ],
   "source": [
    "# check unique value\n",
    "print(prices.info())\n",
    "print(\"------------------------------------------------\")\n",
    "print(prices['nbhood_borough'].unique())\n",
    "print(\"------------------------------------------------\")\n",
    "print(prices['nbhood_zone'].unique())"
   ]
  },
  {
   "cell_type": "code",
   "execution_count": 6,
   "metadata": {},
   "outputs": [
    {
     "data": {
      "text/plain": [
       "listing_id        0\n",
       "price(dollars)    0\n",
       "nbhood_borough    0\n",
       "nbhood_zone       0\n",
       "dtype: int64"
      ]
     },
     "execution_count": 6,
     "metadata": {},
     "output_type": "execute_result"
    }
   ],
   "source": [
    "# check missing value\n",
    "prices.isna().sum()"
   ]
  },
  {
   "cell_type": "markdown",
   "metadata": {},
   "source": [
    "## 3. focus on airbnb room_type\n",
    "#### After run code you will see\n",
    "* check unique and missing value"
   ]
  },
  {
   "cell_type": "code",
   "execution_count": 7,
   "metadata": {},
   "outputs": [
    {
     "name": "stdout",
     "output_type": "stream",
     "text": [
      "   listing_id                                description        room_type\n",
      "0        2595                      Skylit Midtown Castle  Entire home/apt\n",
      "1        3831            Cozy Entire Floor of Brownstone  Entire home/apt\n",
      "2        5099  Large Cozy 1 BR Apartment In Midtown East  Entire home/apt\n",
      "3        5178            Large Furnished Room Near B'way     private room\n",
      "4        5238         Cute & Cozy Lower East Side 1 bdrm  Entire home/apt\n",
      "------------------------------------------------\n",
      "Index(['listing_id', 'description', 'room_type'], dtype='object')\n",
      "------------------------------------------------\n"
     ]
    }
   ],
   "source": [
    "print(room_types.head())\n",
    "print(\"------------------------------------------------\")\n",
    "print(room_types.columns)\n",
    "print(\"------------------------------------------------\")"
   ]
  },
  {
   "cell_type": "code",
   "execution_count": 8,
   "metadata": {},
   "outputs": [
    {
     "data": {
      "text/plain": [
       "array(['Entire home/apt', 'private room', 'Private room',\n",
       "       'entire home/apt', 'PRIVATE ROOM', 'shared room',\n",
       "       'ENTIRE HOME/APT', 'Shared room', 'SHARED ROOM'], dtype=object)"
      ]
     },
     "execution_count": 8,
     "metadata": {},
     "output_type": "execute_result"
    }
   ],
   "source": [
    "# change value in room_type to lower case\n",
    "room_types['room_type'].unique()"
   ]
  },
  {
   "cell_type": "code",
   "execution_count": 9,
   "metadata": {},
   "outputs": [
    {
     "data": {
      "text/plain": [
       "array(['entire home/apt', 'private room', 'shared room'], dtype=object)"
      ]
     },
     "execution_count": 9,
     "metadata": {},
     "output_type": "execute_result"
    }
   ],
   "source": [
    "room_types['room_type'] = room_types['room_type'].str.lower()\n",
    "room_types['room_type'].unique()"
   ]
  },
  {
   "cell_type": "code",
   "execution_count": 10,
   "metadata": {},
   "outputs": [
    {
     "data": {
      "text/plain": [
       "listing_id     0\n",
       "description    0\n",
       "room_type      0\n",
       "dtype: int64"
      ]
     },
     "execution_count": 10,
     "metadata": {},
     "output_type": "execute_result"
    }
   ],
   "source": [
    "# check missing value\n",
    "room_types.isna().sum()"
   ]
  },
  {
   "cell_type": "markdown",
   "metadata": {},
   "source": [
    "## 4. focus on airbnb_last_review\n",
    "#### After run code you will see\n",
    "* check data type on columns date"
   ]
  },
  {
   "cell_type": "code",
   "execution_count": 11,
   "metadata": {},
   "outputs": [
    {
     "name": "stdout",
     "output_type": "stream",
     "text": [
      "   listing_id    host_name   last_review\n",
      "0        2595     Jennifer   May 21 2019\n",
      "1        3831  LisaRoxanne  July 05 2019\n",
      "2        5099        Chris  June 22 2019\n",
      "3        5178     Shunichi  June 24 2019\n",
      "4        5238          Ben  June 09 2019\n",
      "------------------------------------------------\n",
      "Index(['listing_id', 'host_name', 'last_review'], dtype='object')\n",
      "------------------------------------------------\n"
     ]
    }
   ],
   "source": [
    "print(reviews.head())\n",
    "print(\"------------------------------------------------\")\n",
    "print(reviews.columns)\n",
    "print(\"------------------------------------------------\")"
   ]
  },
  {
   "cell_type": "code",
   "execution_count": 12,
   "metadata": {},
   "outputs": [
    {
     "name": "stdout",
     "output_type": "stream",
     "text": [
      "<class 'pandas.core.frame.DataFrame'>\n",
      "RangeIndex: 25209 entries, 0 to 25208\n",
      "Data columns (total 3 columns):\n",
      " #   Column       Non-Null Count  Dtype \n",
      "---  ------       --------------  ----- \n",
      " 0   listing_id   25209 non-null  int64 \n",
      " 1   host_name    25201 non-null  object\n",
      " 2   last_review  25209 non-null  object\n",
      "dtypes: int64(1), object(2)\n",
      "memory usage: 591.0+ KB\n"
     ]
    }
   ],
   "source": [
    "# check last review columns\n",
    "reviews.info()"
   ]
  },
  {
   "cell_type": "code",
   "execution_count": 13,
   "metadata": {},
   "outputs": [
    {
     "name": "stdout",
     "output_type": "stream",
     "text": [
      "<class 'pandas.core.frame.DataFrame'>\n",
      "RangeIndex: 25209 entries, 0 to 25208\n",
      "Data columns (total 3 columns):\n",
      " #   Column       Non-Null Count  Dtype         \n",
      "---  ------       --------------  -----         \n",
      " 0   listing_id   25209 non-null  int64         \n",
      " 1   host_name    25201 non-null  object        \n",
      " 2   last_review  25209 non-null  datetime64[ns]\n",
      "dtypes: datetime64[ns](1), int64(1), object(1)\n",
      "memory usage: 591.0+ KB\n"
     ]
    }
   ],
   "source": [
    "# chang last review columns data type to date\n",
    "reviews[\"last_review\"] = pd.to_datetime(reviews[\"last_review\"], format=\"%B %d %Y\")\n",
    "reviews.info()"
   ]
  },
  {
   "cell_type": "markdown",
   "metadata": {},
   "source": [
    "### 5. check primary key of the 3 tables and Join 3 table\n",
    "After checking 3 table join by one to one relationship so join 3 table to one table"
   ]
  },
  {
   "cell_type": "code",
   "execution_count": 14,
   "metadata": {},
   "outputs": [
    {
     "name": "stdout",
     "output_type": "stream",
     "text": [
      "price_id  =  (25209,)\n",
      "review_id =  (25209,)\n",
      "room_type_id =  (25209,)\n",
      "3 set intercept = (25209,)\n",
      "3 table joint by one to one relation ship\n"
     ]
    }
   ],
   "source": [
    "# check on primary key of three table\n",
    "price_id = prices['listing_id']\n",
    "review_id = reviews['listing_id']\n",
    "room_type_id = room_types['listing_id']\n",
    "z = price_id&review_id&room_type_id\n",
    "print(\"price_id  = \",price_id .shape)\n",
    "print(\"review_id = \",review_id.shape)\n",
    "print(\"room_type_id = \",room_type_id.shape)\n",
    "\n",
    "print(\"3 set intercept =\",z.shape)\n",
    "print(\"3 table joint by one to one relation ship\")"
   ]
  },
  {
   "cell_type": "code",
   "execution_count": 15,
   "metadata": {},
   "outputs": [
    {
     "data": {
      "text/plain": [
       "(25209, 8)"
      ]
     },
     "execution_count": 15,
     "metadata": {},
     "output_type": "execute_result"
    }
   ],
   "source": [
    "# join 3 table into one table\n",
    "table1 = pd.merge(prices,reviews,on=\"listing_id\")\n",
    "full_airbnb_table = pd.merge(table1,room_types,on=\"listing_id\")\n",
    "full_airbnb_table.head()\n",
    "full_airbnb_table.shape"
   ]
  },
  {
   "cell_type": "code",
   "execution_count": 17,
   "metadata": {},
   "outputs": [
    {
     "data": {
      "text/plain": [
       "listing_id        0\n",
       "price(dollars)    0\n",
       "nbhood_borough    0\n",
       "nbhood_zone       0\n",
       "host_name         8\n",
       "last_review       0\n",
       "description       0\n",
       "room_type         0\n",
       "dtype: int64"
      ]
     },
     "execution_count": 17,
     "metadata": {},
     "output_type": "execute_result"
    }
   ],
   "source": [
    "full_airbnb_table.isna().sum()"
   ]
  },
  {
   "cell_type": "markdown",
   "metadata": {},
   "source": [
    "## 6. save and download full table"
   ]
  },
  {
   "cell_type": "code",
   "execution_count": 19,
   "metadata": {},
   "outputs": [],
   "source": [
    "# save file to csv\n",
    "full_airbnb_table.to_csv(\"full_clean_airbnb_table.csv\",index = False)"
   ]
  }
 ],
 "metadata": {
  "kernelspec": {
   "display_name": "Python 3",
   "language": "python",
   "name": "python3"
  },
  "language_info": {
   "codemirror_mode": {
    "name": "ipython",
    "version": 3
   },
   "file_extension": ".py",
   "mimetype": "text/x-python",
   "name": "python",
   "nbconvert_exporter": "python",
   "pygments_lexer": "ipython3",
   "version": "3.9.6"
  }
 },
 "nbformat": 4,
 "nbformat_minor": 2
}
